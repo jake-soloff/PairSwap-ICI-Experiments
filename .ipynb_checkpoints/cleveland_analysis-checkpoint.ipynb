{
 "cells": [
  {
   "cell_type": "code",
   "execution_count": 5,
   "id": "873122df-d117-476a-b89b-4caa5ec3e625",
   "metadata": {},
   "outputs": [],
   "source": [
    "import numpy as np\n",
    "import math\n",
    "import statistics as stat\n",
    "import random\n",
    "import pandas as pd\n",
    "\n",
    "from scipy.optimize import isotonic_regression\n",
    "\n",
    "from matchings import cross_bin_matching, same_bin_matching, immediate_neighbor_matching, max_weight_matching\n",
    "from scipy.stats import norm\n",
    "from tqdm import tqdm\n",
    "\n",
    "import matplotlib.pyplot as plt\n",
    "import matplotlib.patches as patches\n",
    "\n",
    "\n",
    "lblue = (40/255,103/255,178/255)\n",
    "sgreen = (46/255,139/255,87/255)\n",
    "cred = (0.69411765, 0.01568627, 0.05490196)"
   ]
  },
  {
   "cell_type": "code",
   "execution_count": 6,
   "id": "65fc5073-3309-42e8-8e78-c9ce983b1d87",
   "metadata": {},
   "outputs": [],
   "source": [
    "def SCINT_test(X, Y, M, nperm=500):\n",
    "    Del_X = np.array([X[i]-X[j] for (i,j) in M])\n",
    "    Del_Y = np.array([Y[i]-Y[j] for (i,j) in M])\n",
    "    \n",
    "    D_S = np.einsum('ij, j, j -> i', \n",
    "                    (np.random.rand(nperm, len(M)) < .5), \n",
    "                    Del_X, \n",
    "                    Del_Y)\n",
    "    \n",
    "    return (1+np.sum(D_S <= 0))/(1+nperm)"
   ]
  },
  {
   "cell_type": "code",
   "execution_count": 7,
   "id": "bfac614b-8028-4f19-8f76-4e774991b8fb",
   "metadata": {},
   "outputs": [
    {
     "name": "stdout",
     "output_type": "stream",
     "text": [
      "(303, 14)\n",
      "['age', 'sex', 'cp', 'trestbps', 'chol', 'fbs', 'restecg', 'thalach', 'exang', 'oldpeak', 'slope', 'ca', 'thal', 'target']\n"
     ]
    }
   ],
   "source": [
    "data = pd.read_csv('Heart_disease_cleveland_new.csv')\n",
    "data = data.dropna()\n",
    "print(data.shape)\n",
    "print(list(data.columns))"
   ]
  },
  {
   "cell_type": "code",
   "execution_count": 8,
   "id": "2fc09d12-f9b2-4dbe-9422-f1a6e12dc3ac",
   "metadata": {},
   "outputs": [
    {
     "data": {
      "text/html": [
       "<div>\n",
       "<style scoped>\n",
       "    .dataframe tbody tr th:only-of-type {\n",
       "        vertical-align: middle;\n",
       "    }\n",
       "\n",
       "    .dataframe tbody tr th {\n",
       "        vertical-align: top;\n",
       "    }\n",
       "\n",
       "    .dataframe thead th {\n",
       "        text-align: right;\n",
       "    }\n",
       "</style>\n",
       "<table border=\"1\" class=\"dataframe\">\n",
       "  <thead>\n",
       "    <tr style=\"text-align: right;\">\n",
       "      <th></th>\n",
       "      <th>age</th>\n",
       "      <th>sex</th>\n",
       "      <th>cp</th>\n",
       "      <th>trestbps</th>\n",
       "      <th>chol</th>\n",
       "      <th>fbs</th>\n",
       "      <th>restecg</th>\n",
       "      <th>thalach</th>\n",
       "      <th>exang</th>\n",
       "      <th>oldpeak</th>\n",
       "      <th>slope</th>\n",
       "      <th>ca</th>\n",
       "      <th>thal</th>\n",
       "      <th>target</th>\n",
       "    </tr>\n",
       "  </thead>\n",
       "  <tbody>\n",
       "    <tr>\n",
       "      <th>0</th>\n",
       "      <td>63</td>\n",
       "      <td>1</td>\n",
       "      <td>0</td>\n",
       "      <td>145</td>\n",
       "      <td>233</td>\n",
       "      <td>1</td>\n",
       "      <td>2</td>\n",
       "      <td>150</td>\n",
       "      <td>0</td>\n",
       "      <td>2.3</td>\n",
       "      <td>2</td>\n",
       "      <td>0</td>\n",
       "      <td>2</td>\n",
       "      <td>0</td>\n",
       "    </tr>\n",
       "    <tr>\n",
       "      <th>1</th>\n",
       "      <td>67</td>\n",
       "      <td>1</td>\n",
       "      <td>3</td>\n",
       "      <td>160</td>\n",
       "      <td>286</td>\n",
       "      <td>0</td>\n",
       "      <td>2</td>\n",
       "      <td>108</td>\n",
       "      <td>1</td>\n",
       "      <td>1.5</td>\n",
       "      <td>1</td>\n",
       "      <td>3</td>\n",
       "      <td>1</td>\n",
       "      <td>1</td>\n",
       "    </tr>\n",
       "    <tr>\n",
       "      <th>2</th>\n",
       "      <td>67</td>\n",
       "      <td>1</td>\n",
       "      <td>3</td>\n",
       "      <td>120</td>\n",
       "      <td>229</td>\n",
       "      <td>0</td>\n",
       "      <td>2</td>\n",
       "      <td>129</td>\n",
       "      <td>1</td>\n",
       "      <td>2.6</td>\n",
       "      <td>1</td>\n",
       "      <td>2</td>\n",
       "      <td>3</td>\n",
       "      <td>1</td>\n",
       "    </tr>\n",
       "    <tr>\n",
       "      <th>3</th>\n",
       "      <td>37</td>\n",
       "      <td>1</td>\n",
       "      <td>2</td>\n",
       "      <td>130</td>\n",
       "      <td>250</td>\n",
       "      <td>0</td>\n",
       "      <td>0</td>\n",
       "      <td>187</td>\n",
       "      <td>0</td>\n",
       "      <td>3.5</td>\n",
       "      <td>2</td>\n",
       "      <td>0</td>\n",
       "      <td>1</td>\n",
       "      <td>0</td>\n",
       "    </tr>\n",
       "    <tr>\n",
       "      <th>4</th>\n",
       "      <td>41</td>\n",
       "      <td>0</td>\n",
       "      <td>1</td>\n",
       "      <td>130</td>\n",
       "      <td>204</td>\n",
       "      <td>0</td>\n",
       "      <td>2</td>\n",
       "      <td>172</td>\n",
       "      <td>0</td>\n",
       "      <td>1.4</td>\n",
       "      <td>0</td>\n",
       "      <td>0</td>\n",
       "      <td>1</td>\n",
       "      <td>0</td>\n",
       "    </tr>\n",
       "  </tbody>\n",
       "</table>\n",
       "</div>"
      ],
      "text/plain": [
       "   age  sex  cp  trestbps  chol  fbs  restecg  thalach  exang  oldpeak  slope  \\\n",
       "0   63    1   0       145   233    1        2      150      0      2.3      2   \n",
       "1   67    1   3       160   286    0        2      108      1      1.5      1   \n",
       "2   67    1   3       120   229    0        2      129      1      2.6      1   \n",
       "3   37    1   2       130   250    0        0      187      0      3.5      2   \n",
       "4   41    0   1       130   204    0        2      172      0      1.4      0   \n",
       "\n",
       "   ca  thal  target  \n",
       "0   0     2       0  \n",
       "1   3     1       1  \n",
       "2   2     3       1  \n",
       "3   0     1       0  \n",
       "4   0     1       0  "
      ]
     },
     "execution_count": 8,
     "metadata": {},
     "output_type": "execute_result"
    }
   ],
   "source": [
    "data.head()"
   ]
  },
  {
   "cell_type": "code",
   "execution_count": 9,
   "id": "32917c37-b533-474a-ba6f-d5b5e8a14a22",
   "metadata": {},
   "outputs": [
    {
     "data": {
      "text/plain": [
       "array([0, 1])"
      ]
     },
     "execution_count": 9,
     "metadata": {},
     "output_type": "execute_result"
    }
   ],
   "source": [
    "np.unique(data[\"target\"])"
   ]
  },
  {
   "cell_type": "code",
   "execution_count": 10,
   "id": "f82560a8-4c55-4037-aaca-157f488f0981",
   "metadata": {},
   "outputs": [
    {
     "data": {
      "text/plain": [
       "<Axes: xlabel='age', ylabel='target'>"
      ]
     },
     "execution_count": 10,
     "metadata": {},
     "output_type": "execute_result"
    },
    {
     "data": {
      "image/png": "[encoded data removed]",
      "text/plain": [
       "<Figure size 640x480 with 1 Axes>"
      ]
     },
     "metadata": {},
     "output_type": "display_data"
    }
   ],
   "source": [
    "import seaborn as sns\n",
    "#plt.plot(data[\"age\"], data[\"trestbps\"], '.', c=lblue)\n",
    "sns.regplot(x=\"age\", y=\"target\", data=data, logistic=True)\n",
    "\n",
    "#check monotonicity hypothesis-- binary $Y$, so monotonicity of mean"
   ]
  },
  {
   "cell_type": "code",
   "execution_count": 11,
   "id": "78300026-eef5-4a10-82e0-6dbe8c998d66",
   "metadata": {},
   "outputs": [
    {
     "name": "stdout",
     "output_type": "stream",
     "text": [
      "0.6447105788423154 75\n",
      "0.562874251497006 86\n",
      "0.19760479041916168 133\n"
     ]
    }
   ],
   "source": [
    "Z = np.array(data[\"age\"])\n",
    "X = np.array(data[\"target\"])\n",
    "\n",
    "## cholesterol\n",
    "Y = np.array(data[\"chol\"])\n",
    "M_nbhd = immediate_neighbor_matching(Y, Z)\n",
    "print(SCINT_test(X ,Y, M_nbhd), len(M_nbhd))\n",
    "\n",
    "## blood pressure\n",
    "Y = np.array(data[\"trestbps\"])\n",
    "M_nbhd = immediate_neighbor_matching(Y, Z)\n",
    "print(SCINT_test(X ,Y, M_nbhd), len(M_nbhd))\n",
    "\n",
    "## blood sugar\n",
    "Y = np.array(data[\"fbs\"])\n",
    "M_nbhd = immediate_neighbor_matching(Y, Z)\n",
    "print(SCINT_test(X ,Y, M_nbhd), len(M_nbhd))"
   ]
  },
  {
   "cell_type": "code",
   "execution_count": 12,
   "id": "8a91d7a5-743a-48c9-afaa-85418df8a3fa",
   "metadata": {},
   "outputs": [
    {
     "name": "stdout",
     "output_type": "stream",
     "text": [
      "0.4091816367265469 121\n",
      "0.5089820359281437 116\n",
      "0.34331337325349304 42\n"
     ]
    }
   ],
   "source": [
    "#eta = 1/50\n",
    "K = 150\n",
    "## cholesterol\n",
    "Z = np.array(data[\"age\"])\n",
    "X = np.array(data[\"target\"])\n",
    "\n",
    "\n",
    "Y = np.array(data[\"chol\"])\n",
    "M_cb = cross_bin_matching(Y,Z,K)\n",
    "print(SCINT_test(X,Y,M_cb), len(M_cb))\n",
    "\n",
    "## blood pressure\n",
    "Y = np.array(data[\"trestbps\"])\n",
    "M_cb = cross_bin_matching(Y, Z,K)\n",
    "print(SCINT_test(X, Y,M_cb), len(M_cb))\n",
    "\n",
    "## blood sugar\n",
    "Y = np.array(data[\"fbs\"])\n",
    "M_cb = cross_bin_matching(Y, Z,K, binary=True)\n",
    "print(SCINT_test(X, Y, M_cb), len(M_cb))"
   ]
  }
 ],
 "metadata": {
  "kernelspec": {
   "display_name": "Python 3 (ipykernel)",
   "language": "python",
   "name": "python3"
  },
  "language_info": {
   "codemirror_mode": {
    "name": "ipython",
    "version": 3
   },
   "file_extension": ".py",
   "mimetype": "text/x-python",
   "name": "python",
   "nbconvert_exporter": "python",
   "pygments_lexer": "ipython3",
   "version": "3.11.7"
  }
 },
 "nbformat": 4,
 "nbformat_minor": 5
}
